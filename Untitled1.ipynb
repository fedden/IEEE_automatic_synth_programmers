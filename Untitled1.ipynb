{
 "cells": [
  {
   "cell_type": "code",
   "execution_count": 6,
   "metadata": {
    "collapsed": false
   },
   "outputs": [
    {
     "name": "stdout",
     "output_type": "stream",
     "text": [
      "Successfully loaded plugin.\n",
      "--- 0.0220260620117 seconds ---\n"
     ]
    }
   ],
   "source": [
    "import os\n",
    "import sys\n",
    "import tflearn\n",
    "import numpy as np\n",
    "from tqdm import tqdm\n",
    "from IPython.display import Audio\n",
    "import time\n",
    "\n",
    "sys.path.append('utils')\n",
    "\n",
    "from plugin_feature_extractor import PluginFeatureExtractor\n",
    "import numpy as np\n",
    "from utility_functions import get_batches, get_stats, display_stats, plot_error, write_wavs\n",
    "from tqdm import trange\n",
    "\n",
    "extractor = PluginFeatureExtractor(midi_note=24, note_length_secs=0.4,\n",
    "                                   desired_features=[i for i in range(8, 21)],\n",
    "                                   overriden_parameters=[],\n",
    "                                   render_length_secs=0.7,\n",
    "                                   pickle_path=\"utils/normalisers\",\n",
    "                                   warning_mode=\"ignore\", normalise_audio=False)\n",
    "\n",
    "path = \"/home/tollie/Development/vsts/dexed/Builds/Linux/build/Dexed.so\"\n",
    "extractor.load_plugin(path)\n",
    "\n",
    "p = [0.5 for _ in range(155)]\n",
    "predicted_full_patch = extractor.partial_patch_to_patch(p)\n",
    "predicted_patch_with_indices = extractor.add_patch_indices(predicted_full_patch)\n",
    "\n",
    "start_time = time.time()\n",
    "extractor.set_patch(predicted_patch_with_indices)\n",
    "print(\"--- %s seconds ---\" % (time.time() - start_time))\n",
    "\n",
    "sys.path.append(os.path.join(os.path.dirname(__file__), 'models/hill_climber'))\n",
    "from hill_climber import HillClimber\n",
    "\n",
    "features_cols = train_x[0].shape[0]\n",
    "features_rows = train_x[0].shape[1]\n",
    "parameter_size = train_y[0].shape[0]\n",
    "\n",
    "hill_climber = HillClimber(extractor=extractor, target_features=test_x,\n",
    "                           feature_size=(features_cols * features_rows),\n",
    "                           parameter_size=parameter_size, averaging_amount=4)\n",
    "\n",
    "\n"
   ]
  }
 ],
 "metadata": {
  "kernelspec": {
   "display_name": "Python 2",
   "language": "python",
   "name": "python2"
  },
  "language_info": {
   "codemirror_mode": {
    "name": "ipython",
    "version": 2
   },
   "file_extension": ".py",
   "mimetype": "text/x-python",
   "name": "python",
   "nbconvert_exporter": "python",
   "pygments_lexer": "ipython2",
   "version": "2.7.12"
  }
 },
 "nbformat": 4,
 "nbformat_minor": 2
}
