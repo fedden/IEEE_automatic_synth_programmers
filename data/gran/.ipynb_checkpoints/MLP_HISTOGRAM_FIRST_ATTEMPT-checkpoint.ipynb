{
 "cells": [
  {
   "cell_type": "code",
   "execution_count": 16,
   "metadata": {
    "collapsed": false
   },
   "outputs": [
    {
     "data": {
      "image/png": "[encoded data removed]",
      "text/plain": [
       "<matplotlib.figure.Figure at 0x7f6d417b0490>"
      ]
     },
     "metadata": {},
     "output_type": "display_data"
    }
   ],
   "source": [
    "%matplotlib inline\n",
    "\n",
    "file = open(\"original_tf_mlp_results.txt\", \"r\") \n",
    "\n",
    "abs_parameter_error = []\n",
    "for line in file: \n",
    "    abs_parameter_error += [float(line.split(' ')[7])]\n",
    "    \n",
    "import pandas as pd\n",
    "import numpy as np\n",
    "\n",
    "count, division = np.histogram(np.array(abs_parameter_error))\n",
    "\n",
    "series = pd.Series(np.array(abs_parameter_error)).hist(bins=division)"
   ]
  }
 ],
 "metadata": {
  "kernelspec": {
   "display_name": "Python 2",
   "language": "python",
   "name": "python2"
  },
  "language_info": {
   "codemirror_mode": {
    "name": "ipython",
    "version": 2
   },
   "file_extension": ".py",
   "mimetype": "text/x-python",
   "name": "python",
   "nbconvert_exporter": "python",
   "pygments_lexer": "ipython2",
   "version": "2.7.12"
  }
 },
 "nbformat": 4,
 "nbformat_minor": 2
}
